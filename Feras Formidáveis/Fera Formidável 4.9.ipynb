{
 "cells": [
  {
   "cell_type": "markdown",
   "metadata": {},
   "source": [
    "<div style=\"text-align: justify\">\n",
    "\n",
    "# 4.9 A senha de tamanho variável\n",
    "\n",
    "Nomes: Andressa Cristine M. Costa e Andriel Vinicius Martins  da Silva\n",
    "\n",
    "**Objetivo:** Resolver o problema da senha de forma que você não forneça a informação\n",
    "do tamanho da senha para a função que gera a população. Considere que a senha pode\n",
    "ser uma string de 1 até 30 caracteres.\n",
    "\n",
    "**Dica:** A função objetivo terá que quantificar em sua métrica tanto se o candidato\n",
    "acertou as letras quanto se acertou o tamanho da senha.\n",
    "\n",
    "**Dica 2:** Você pode criar diferentes estratégias de mutação, não precisa ser apensa\n",
    "uma! Quem sabe uma função de mutação pode alterar letras e a outra pode alterar o\n",
    "tamanho da senha? Ver o exercício “Praticamente um X-man!”.\n",
    "\n",
    "**Dica 3:** Observe que você terá que pensar um pouco sobre como fará o cruzamento no\n",
    "caso de senhas de tamanhos diferentes. Quem sabe tenha que fazer alguma consideração\n",
    "adicional sobre quais são os valores possíveis para o ponto de corte…\n",
    "\n",
    "## Contextualização\n",
    "\n",
    "&nbsp;&nbsp;&nbsp;&nbsp;Nesse problema queremos adivinhar uma senha utilizando algoritmos genéticos de forma que não precisamos revelar o tamanho da senha de entrada para o algoritmo. Para isso, foram implementadas pequenas variações ao código apresentado em aula.\n",
    "\n",
    "&nbsp;&nbsp;&nbsp;&nbsp;No código original, a estratégia de resolução consistia em \"chutar\" aleatóriamente letras que compunham um tamanho especificado de senha e medir a distância entre o código do caractere do chute e o código do caractere da senha correta, calculando a distância entre eles. Nesse caso, precisamos fornecer \"chutes\" tanto para acertar os caracteres, quanto para acertar o tamanho da senha inserida. Por isso, foi necessário modificar levemente a lógica do código original.\n",
    "\n"
   ]
  },
  {
   "cell_type": "markdown",
   "metadata": {},
   "source": [
    "<div style=\"text-align: justify\">\n",
    "\n",
    "##  Resolução\n",
    "\n",
    "Precisamos atualizar certas funções do arquivo \"funcoes_4.py\" para atender as necessidades específicas desse problema.\n",
    "\n",
    "**I) Modificar a forma como o candidato é criado:** No caso, queremos que isso seja feito de forma independente do tamanho da senha.\n",
    "Na célula abaixo, modificamos a lógica de gerar um candidato para sorteio para receber um valor inteiro aleatório para representar o tamanho da senha de chute inicial. Após isso, geramos uma senha com esse tamanho por meio da função `gene_senha(letras_possiveis)`."
   ]
  },
  {
   "cell_type": "markdown",
   "metadata": {},
   "source": [
    "```python\n",
    "import random\n",
    "def cria_candidato_senha(letras_possiveis): \n",
    "    \"\"\"Cria um candidato para o problema da senha\n",
    "\n",
    "    Args:\n",
    "      indice_tamanho: guarda o tamanho sorteado para o chute de senha\n",
    "      letras_possiveis: letras possíveis de serem sorteadas.\n",
    "\n",
    "    \"\"\"\n",
    "    candidato = []\n",
    "    indice_tamanho = random.randint(1, 30)\n",
    "\n",
    "    for _ in range(indice_tamanho):\n",
    "        candidato.append(gene_senha(letras_possiveis))\n",
    "\n",
    "    return candidato"
   ]
  },
  {
   "cell_type": "markdown",
   "metadata": {},
   "source": [
    "<div style=\"text-align: justify\">\n",
    "\n",
    "**II) Modificação da função objetivo:** precisamos retirar a parte referente à variável que informava o tamanho da senha e inserir um condicional para verificar se o tamanho da senha de palpite é válido. Apenas se o tamanho do palpite for igual ao da senha verdadeira a comparação entre as distâncias dos caracteres será realizada."
   ]
  },
  {
   "cell_type": "markdown",
   "metadata": {},
   "source": [
    "```python\n",
    "def funcao_objetivo_senha(candidato, senha_verdadeira):\n",
    "    \"\"\"Computa a funcao objetivo de um candidato no problema da senha\n",
    "\n",
    "    Args:\n",
    "      candidato: um palpite para a senha que você quer descobrir\n",
    "      senha_verdadeira: a senha que você está tentando descobrir\n",
    "\n",
    "    \"\"\"\n",
    "    distancia = 0\n",
    "\n",
    "    if len(candidato) == len(senha_verdadeira):\n",
    "        for letra_candidato, letra_senha in zip(candidato, senha_verdadeira):\n",
    "            num_letra_candidato = ord(letra_candidato)\n",
    "            num_letra_senha = ord(letra_senha)\n",
    "            distancia += abs(num_letra_candidato - num_letra_senha)\n",
    "\n",
    "        return distancia    \n",
    "    else:\n",
    "        return float(\"inf\")"
   ]
  },
  {
   "cell_type": "markdown",
   "metadata": {},
   "source": [
    "Retornamos o `float(\"inf\")` nesse ponto para criar um filtro de seleção para os indivíduos. "
   ]
  },
  {
   "cell_type": "markdown",
   "metadata": {},
   "source": [
    "**III) Execução do código de algoritmos genéticos:** Nessa parte, empregamos o código conforme fornecido em aula."
   ]
  },
  {
   "cell_type": "code",
   "execution_count": 5,
   "metadata": {},
   "outputs": [],
   "source": [
    "from string import ascii_lowercase, ascii_uppercase, digits\n",
    "\n",
    "from funcoes_senha_var import populacao_senha as cria_populacao\n",
    "from funcoes_senha_var import funcao_objetivo_pop_senha as funcao_objetivo\n",
    "from funcoes_senha_var import selecao_torneio_min as funcao_selecao\n",
    "from funcoes_senha_var import cruzamento_uniforme as funcao_cruzamento\n",
    "from funcoes_senha_var import mutacao_simples as funcao_mutacao1\n",
    "from funcoes_senha_var import mutacao_salto as funcao_mutacao2"
   ]
  },
  {
   "cell_type": "code",
   "execution_count": 6,
   "metadata": {},
   "outputs": [],
   "source": [
    "SENHA = list(\"59laranjasDeliciosas\")\n",
    "CARACTERES_POSSIVEIS = ascii_lowercase + ascii_uppercase + digits\n",
    "\n",
    "TAMANHO_POPULACAO = 100\n",
    "CHANCE_DE_CRUZAMENTO = 0.5\n",
    "CHANCE_DE_MUTACAO = 0.025\n",
    "TAMANHO_TORNEIO = 10"
   ]
  },
  {
   "cell_type": "code",
   "execution_count": 7,
   "metadata": {
    "tags": []
   },
   "outputs": [],
   "source": [
    "populacao = cria_populacao(TAMANHO_POPULACAO, CARACTERES_POSSIVEIS)"
   ]
  },
  {
   "cell_type": "code",
   "execution_count": 8,
   "metadata": {},
   "outputs": [
    {
     "name": "stdout",
     "output_type": "stream",
     "text": [
      "1 pcRXpysRiafWjbxbfDgx\n",
      "2 pPhBsCiBPaCWjhTjfwNx\n",
      "3 pPhBsCirPaCWjhTjfwNx\n",
      "5 pPhhsCirPaCWjhTjfwNx\n",
      "7 bPhhsCirPaCqjhTjfwNx\n",
      "8 bPhhsCirPaCqjhbjfwNx\n",
      "10 bPhhsCirQtCqjhTjfwNx\n",
      "11 bPhhsCirQtCqjhbjfwNx\n",
      "12 bPihsCirQtCqjhbjfwNx\n",
      "14 bPihsCirQtCqjhcjfwNx\n",
      "15 bPihsCirRtCqjhcjfwNx\n",
      "17 bPihsCirQtCqjicifwNw\n",
      "18 aPihsCirRtCpjhcifwNx\n",
      "19 aPihsCirRtCpjhcifwPx\n",
      "20 aPihsLirRtCpjhcjgwNx\n",
      "21 bPihsCirRtCqjicigwcw\n",
      "22 aPihsLirRtCpjicigwcx\n",
      "23 aPihsLirRtCpjicigwcw\n",
      "25 aPihrLirStCpjicigwcx\n",
      "26 aPidsLirRtCpjicigwcw\n",
      "27 aPidrLirRtDpjicigwcw\n",
      "28 aPidrLirRtCljicigwcw\n",
      "29 aOidrLirRtDljicigwcw\n",
      "31 aOjdrLirRtDljicigwcw\n",
      "33 aNidrLirRtDlkicigwcw\n",
      "35 aNjdrLirRtDhkicigwcw\n",
      "37 aMjdrLirRtDhkicigwcw\n",
      "38 HMjcrLirRtDhkicigwcw\n",
      "39 HMjcrLnrRtDhkicigwcw\n",
      "40 HNjcrMnrRtDhkicigwcv\n",
      "42 HNjcrMnrftDhkicigwcv\n",
      "43 HMjcrMnrftDhkicigwcv\n",
      "44 HMjcrMnretDhkicigwcv\n",
      "45 HDjcrMnrftDhkicigwcv\n",
      "47 HDjcrMnretDhkicigwcv\n",
      "49 HDjcrMnqetDhkicigwcv\n",
      "51 HDjcrMnpetDhkicigwcv\n",
      "52 HDjcrMnpetDhkicigwbv\n",
      "53 HDjcrMnpdtDhkicigwbv\n",
      "54 HDjcrMnpetDgkicihvbv\n",
      "55 HDjcrMnpetDgkicihubv\n",
      "57 H9jcrMnpetDgkicihubv\n",
      "59 H9jcrMnpetDgkicihubu\n",
      "60 H9jcrMnoetDgkicihubu\n",
      "61 H9jcrMnoetDfkicihubu\n",
      "63 H9jcrMnoetDekicihubu\n",
      "64 G9jcrMnoetDekicihubu\n",
      "66 G9jcrMnoesDekicihubu\n",
      "70 G9jbrMnoesDekicihubu\n",
      "72 G9kbrMnoesDekicihubu\n",
      "73 G9kbrMnnesDekicihubu\n",
      "76 G9kbrMnnesDekicihuau\n",
      "78 G9kbrMnnesDelicihuau\n",
      "80 F9karMnnesDekicihuau\n",
      "81 F9karMnnesDelicihuau\n",
      "85 F9karMnlesDelicihuau\n",
      "87 F9karMnldsDelicihuau\n",
      "89 F9karMnkdsDelicihuau\n",
      "93 F9larMnkdsDelicihuau\n",
      "98 F9larMnkcsDelicihuau\n",
      "100 F9larMnjcsDelicihuau\n",
      "101 F9larMnjcsDeliciiuau\n",
      "106 F9larNnjcsDeliciiuau\n",
      "108 F9larNnjcsDeliciitau\n",
      "111 F9larNnjcsDeliciisau\n",
      "113 F9larOnjcsDeliciisau\n",
      "115 F9larknjcsDeliciisat\n",
      "117 E9larknjcsDeliciisat\n",
      "120 E9larknjcsDeliciisas\n",
      "121 E9larinjcsDeliciisat\n",
      "122 E9larinjcsDeliciisas\n",
      "127 E9larinjbsDeliciisas\n",
      "129 E9larbnjbsDeliciisas\n",
      "131 E9larbnjbsDelicimsas\n",
      "134 B9larbnjbsDelicimsas\n",
      "135 A9larbnjbsDelicimsas\n",
      "136 A9larbnjbsDelicinsas\n",
      "138 A9larbnjasDelicinsas\n",
      "152 A9larbnjasDeliciosas\n",
      "180 A9laranjasDeliciosas\n",
      "216 19laranjasDemiciosas\n",
      "217 19laranjasDeliciosas\n",
      "219 29laranjasDeliciosas\n",
      "238 39laranjasDeliciosas\n",
      "357 69laranjasDeliciosas\n",
      "360 59laranjasDeliciosas\n"
     ]
    }
   ],
   "source": [
    "menor_fitness_geral = float(\"inf\")\n",
    "geracao = 0\n",
    "\n",
    "while menor_fitness_geral != 0:\n",
    "    \n",
    "    # Seleção\n",
    "    fitness = funcao_objetivo(populacao, SENHA)        \n",
    "    selecionados = funcao_selecao(populacao, fitness, TAMANHO_TORNEIO)\n",
    "    \n",
    "    # Cruzamento\n",
    "    proxima_geracao = []\n",
    "    for pai, mae in zip(selecionados[::2], selecionados[1::2]):\n",
    "        individuo1, individuo2 = funcao_cruzamento(pai, mae, CHANCE_DE_CRUZAMENTO)\n",
    "        proxima_geracao.append(individuo1)\n",
    "        proxima_geracao.append(individuo2)\n",
    "    \n",
    "    # Mutação\n",
    "    funcao_mutacao1(proxima_geracao, CHANCE_DE_MUTACAO, list(CARACTERES_POSSIVEIS))\n",
    "    funcao_mutacao2(proxima_geracao, CHANCE_DE_MUTACAO, list(CARACTERES_POSSIVEIS))\n",
    "    \n",
    "    # Encerramento\n",
    "    populacao = proxima_geracao\n",
    "    geracao += 1\n",
    "    \n",
    "    fitness = funcao_objetivo(populacao, SENHA)\n",
    "    menor_fitness_observado = min(fitness)\n",
    "    \n",
    "    if menor_fitness_observado < menor_fitness_geral:\n",
    "        menor_fitness_geral = menor_fitness_observado\n",
    "        indice = fitness.index(menor_fitness_observado)\n",
    "        candidato = populacao[indice]\n",
    "        print(geracao, \"\".join(candidato))"
   ]
  },
  {
   "cell_type": "markdown",
   "metadata": {},
   "source": [
    "### Conclusão"
   ]
  },
  {
   "cell_type": "markdown",
   "metadata": {},
   "source": [
    "<div style=\"text-align: justify\">\n",
    "\n",
    "&nbsp;&nbsp;&nbsp;&nbsp;Ao definir infinito para a distância retornada para os comprimentos diferentes da senha alvo, teremos uma espécie de filtro durante a seleção dos indivíduos, uma vez que a seleção funciona por torneio mínimo. Isso permite uma rápida convergência para o comprimento esperado. Após convergir, o código irá funcionar exatamente como no problema da senha com comprimento único. Provalvemente esse não será o resultado mais otimizado, porém cumpre o objetivo.\n"
   ]
  }
 ],
 "metadata": {
  "kernelspec": {
   "display_name": "Python 3 (ipykernel)",
   "language": "python",
   "name": "python3"
  },
  "language_info": {
   "codemirror_mode": {
    "name": "ipython",
    "version": 3
   },
   "file_extension": ".py",
   "mimetype": "text/x-python",
   "name": "python",
   "nbconvert_exporter": "python",
   "pygments_lexer": "ipython3",
   "version": "3.11.5"
  },
  "org": null
 },
 "nbformat": 4,
 "nbformat_minor": 4
}
