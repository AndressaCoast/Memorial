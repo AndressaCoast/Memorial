{
 "cells": [
  {
   "cell_type": "markdown",
   "metadata": {},
   "source": [
    "## Monstrinho 3.4"
   ]
  },
  {
   "cell_type": "markdown",
   "id": "ac0b0aad",
   "metadata": {},
   "source": [
    "#### 1. Objetivo: \n",
    "Se informe sobre métodos dunder que não foram utilizados no material de\n",
    "aula e crie uma classe que contenha pelo menos 3 destes métodos dunder. Faça códigos\n",
    "onde cada um destes métodos dunder seja acessado sem os chamar explicitamente (exemplo: não é para rodar a.__add__(b) mas sim a + b para o caso do dunder __add__).\n",
    "\n",
    "#### 2. Considerações do experimento:\n",
    "A classe deve conter pelo menos 3 métodos dunder\n",
    "que não foram vistos no material da disciplina. Sua classe deve fazer sentido, isto é, não\n",
    "crie uma classe “sem pé nem cabeça” apenas para a entrega. Reflita sobre uma classe\n",
    "onde os métodos dunder propostos realmente fazem sentido. Na sua entrega, explique\n",
    "brevemente o que fazem os métodos dunder que escolheu e mostre eles em ação com uma\n",
    "instância da sua classe."
   ]
  },
  {
   "cell_type": "markdown",
   "id": "fbcd6576",
   "metadata": {},
   "source": [
    "#### 3. Contextualização\n",
    "\n",
    "A ideia é fazer uma livraria que recebe um dicionário de livros, cuja chave é o nome do livro e os valores são informações sobre a categoria e o ano de publicação desse livro. O acervo dessa livraria vai ser atualizado com os métodos dunder `__delitem__` e `__getitem__` que funcionam iterando sobre o dicionário e verificando se o título está no acervo e retornando o título se ele estiver. Caso haja um empréstimo ou uma compra, o `__delitem__` será responsável por eliminar o livro do acervo deletando o título correspondente. Para verificar se o livro está no acervo, também foi utilizado o método `__contains__`."
   ]
  },
  {
   "cell_type": "code",
   "execution_count": 1,
   "id": "ad2dcb55",
   "metadata": {},
   "outputs": [],
   "source": [
    "class Livro:\n",
    "    \"\"\"Cria a unidade de livro e atribui as características de titulo, categoria e ano de puclicação a ele\"\"\"\n",
    "    def __init__(self, titulo, categoria, ano_publicacao):\n",
    "        self.titulo = titulo\n",
    "        self.categoria = categoria\n",
    "        self.ano_publicacao = ano_publicacao\n",
    "\n",
    "    def __repr__(self):\n",
    "        return f\"'{self.titulo}' ({self.ano_publicacao}), {self.categoria}\""
   ]
  },
  {
   "cell_type": "markdown",
   "metadata": {},
   "source": [
    "Depois disso, vamos criar a classe `Livraria` para representar o acervo de livros que criamos usando a classe anterior."
   ]
  },
  {
   "cell_type": "code",
   "execution_count": 16,
   "id": "eb43ce2a",
   "metadata": {},
   "outputs": [],
   "source": [
    "class Livraria:\n",
    "    \"\"\"Cria um acervo de livros por meio da varíavel self.acervo, que funciona como dicionário\"\"\"\n",
    "    def __init__(self):\n",
    "        self.acervo = {}\n",
    "\n",
    "    def __getitem__(self, titulo):\n",
    "        if titulo in self.acervo:\n",
    "            return self.acervo[titulo]\n",
    "        else:\n",
    "            print(f\"O livro '{titulo}' não está no acervo.\")\n",
    "\n",
    "    def __delitem__(self, titulo):\n",
    "        if titulo in self.acervo:\n",
    "            del self.acervo[titulo]\n",
    "        else:\n",
    "            print(f\"O livro '{titulo}' não está mais no acervo.\")\n",
    "\n",
    "    def __contains__(self, titulo):\n",
    "        return titulo in self.acervo\n",
    "\n",
    "    def adicionar_livro(self, livro):\n",
    "        self.acervo[livro.titulo] = livro     \n",
    "\n",
    "#chama indiretamente\n",
    "    def procurar_livro(self, titulo):\n",
    "        return self.__getitem__(titulo)\n",
    "    def remover_livro(self, titulo):\n",
    "        return self.__delitem__(titulo)\n",
    "    def verificar_livro(self, titulo):\n",
    "        return self.__contains__(titulo)"
   ]
  },
  {
   "cell_type": "markdown",
   "id": "8d780bf4",
   "metadata": {},
   "source": [
    "Os dunder funcionam da seguinte forma:\n",
    "\n",
    "* `__getitem__`: funciona procurando um item quando você usa objeto[indice]\n",
    "* `__delitem__`: funciona deletando um item quando você usa objeto[indice]\n",
    "* `__contains__`: verifica se um item está contido em um conjunto/lista/dicionario quando você usa alguma coisa `in` alguma outra coisa. [1]\n",
    "\n",
    "A função `adicionar_livro` funciona adicionando a unidade de livro criada na classe anterior ao acervo por meio do título da obra. As informações sobre o livro no acervo não tinham que ser somente referentes ao título, mas esse é o critério mais direto de localizar um livro sem erros. \n",
    "\n",
    "As funções `procurar_livro`,`remover_livro` e `verificar_livro` apenas existem para tornar o processo de busca pelos livros mais orgânico, trazendo nomes mais intuitivos para os métodos."
   ]
  },
  {
   "cell_type": "markdown",
   "metadata": {},
   "source": [
    "##### 3.1 Exemplos\n",
    "\n",
    "Agora algumas operações serão realizadas com as classes e funções declaradas:"
   ]
  },
  {
   "cell_type": "code",
   "execution_count": 20,
   "id": "66bf50b5",
   "metadata": {},
   "outputs": [],
   "source": [
    "#montando um acervinho\n",
    "livraria = Livraria()\n",
    "livro1 = Livro(\"O pequeno príncipe\", \"Infantil\", 1943)\n",
    "livro2 = Livro(\"1984\", \"Ficção\", 1949)\n",
    "\n",
    "livraria.adicionar_livro(livro1)\n",
    "livraria.adicionar_livro(livro2)"
   ]
  },
  {
   "cell_type": "markdown",
   "metadata": {},
   "source": [
    "A célula acima cria um acervo por meio da linha `livraria = Livraria()` e cria as variáveis `livro1` e `livro2`. Depois disso, o método `adicionar_livro()` da classe `Livraria()` adiciona essas variáveis criadas para os livros ao acervo."
   ]
  },
  {
   "cell_type": "code",
   "execution_count": 21,
   "id": "37a716b8",
   "metadata": {},
   "outputs": [
    {
     "name": "stdout",
     "output_type": "stream",
     "text": [
      "'O pequeno príncipe' (1943), Infantil\n"
     ]
    }
   ],
   "source": [
    "print(livraria[\"O pequeno príncipe\"])\n"
   ]
  },
  {
   "cell_type": "markdown",
   "metadata": {},
   "source": [
    "A célula acima printa o livro ´O pequeno principe´ após o encontrar no acervo `livraria` pelo seu atributo `título`."
   ]
  },
  {
   "cell_type": "code",
   "execution_count": 22,
   "metadata": {},
   "outputs": [
    {
     "name": "stdout",
     "output_type": "stream",
     "text": [
      "True\n"
     ]
    }
   ],
   "source": [
    "print(livraria.verificar_livro(\"1984\"))"
   ]
  },
  {
   "cell_type": "markdown",
   "metadata": {},
   "source": [
    "True indica que o livro está contido no acervo livraria."
   ]
  },
  {
   "cell_type": "code",
   "execution_count": 23,
   "metadata": {},
   "outputs": [
    {
     "name": "stdout",
     "output_type": "stream",
     "text": [
      "O livro '1984' não está no acervo.\n",
      "None\n"
     ]
    }
   ],
   "source": [
    "livraria.remover_livro(\"1984\")\n",
    "#Assim vamos remover o livro com o título `1984`\n",
    "\n",
    "print(livraria.procurar_livro(\"1984\"))\n",
    "#porque o titulo não se encontra mais no arcevo"
   ]
  },
  {
   "cell_type": "markdown",
   "metadata": {},
   "source": [
    "Por fim, isso indica que o livro foi removido do acervo com sucesso.\n",
    "\n",
    "#### 4. Conclusão\n",
    "\n",
    "Por meio dessa atividade, foi possível compreender melhor de que forma os métodos dunder podem ser alterados conforme contextos distintos, tornando mais clara a visão de que não apenas porque são métodos nativos do python eles são limitados a certas aplicações. Novamente, foi possível praticar também as definições de atributos, métodos e classes dentro de um contexto mais lúdico, o que é positivo para a aprendizagem."
   ]
  },
  {
   "cell_type": "markdown",
   "id": "66b2aed1",
   "metadata": {},
   "source": [
    "#### 5. Referências\n",
    "\n",
    "[1]. HUNNER, T. Every dunder method in Python. Disponível em: <https://www.pythonmorsels.com/every-dunder-method/>.\n"
   ]
  }
 ],
 "metadata": {
  "kernelspec": {
   "display_name": "Python 3 (ipykernel)",
   "language": "python",
   "name": "python3"
  },
  "language_info": {
   "codemirror_mode": {
    "name": "ipython",
    "version": 3
   },
   "file_extension": ".py",
   "mimetype": "text/x-python",
   "name": "python",
   "nbconvert_exporter": "python",
   "pygments_lexer": "ipython3",
   "version": "3.11.5"
  }
 },
 "nbformat": 4,
 "nbformat_minor": 5
}
