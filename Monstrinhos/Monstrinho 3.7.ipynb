{
 "cells": [
  {
   "cell_type": "code",
   "execution_count": 29,
   "metadata": {},
   "outputs": [],
   "source": [
    "import time "
   ]
  },
  {
   "cell_type": "code",
   "execution_count": 30,
   "metadata": {},
   "outputs": [],
   "source": [
    "import random\n",
    "\n",
    "def funcao_objetivo_cb(candidato):\n",
    "    return sum(candidato)\n",
    "\n",
    "def gene_cb():\n",
    "    valores_possiveis = [0, 1]\n",
    "    gene = random.choice(valores_possiveis)\n",
    "    return gene\n",
    "\n",
    "def cria_candidato_cb(n):\n",
    "    candidato = []\n",
    "    for _ in range(n):\n",
    "        gene = gene_cb()\n",
    "        candidato.append(gene)\n",
    "    return candidato"
   ]
  },
  {
   "cell_type": "code",
   "execution_count": 31,
   "metadata": {},
   "outputs": [],
   "source": [
    "TESTE_CAIXAS = list(range(1, 21))\n",
    "NUMERO_TESTES = 20\n",
    "\n",
    "NUM_CAIXAS = list(range(3, 20))"
   ]
  },
  {
   "cell_type": "code",
   "execution_count": 32,
   "metadata": {},
   "outputs": [
    {
     "data": {
      "text/plain": [
       "{3: 0.20805490016937256,\n",
       " 4: 0.20330919027328492,\n",
       " 5: 0.20203412771224977,\n",
       " 6: 0.20651822090148925,\n",
       " 7: 0.19927172660827636,\n",
       " 8: 0.20254073143005372,\n",
       " 9: 0.19803149700164796,\n",
       " 10: 0.38482370376586916,\n",
       " 11: 0.37545987367630007,\n",
       " 12: 0.3965956449508667,\n",
       " 13: 0.36116570234298706,\n",
       " 14: 0.4027677536010742,\n",
       " 15: 0.39532735347747805,\n",
       " 16: 0.3824615001678467,\n",
       " 17: 0.40123687982559203,\n",
       " 18: 0.4306671619415283,\n",
       " 19: 0.4259613394737244}"
      ]
     },
     "execution_count": 32,
     "metadata": {},
     "output_type": "execute_result"
    }
   ],
   "source": [
    "dict_aleatorio = {}\n",
    "\n",
    "for j in NUM_CAIXAS:\n",
    "    tempos_aleatorio = []\n",
    "    for _ in range(NUMERO_TESTES):\n",
    "\n",
    "        inicio_aleatorio = time.time()\n",
    "\n",
    "        NUM_SORTEIOS = 1000\n",
    "\n",
    "        caixas = []\n",
    "\n",
    "        for i in range(NUM_SORTEIOS):\n",
    "            candidato = cria_candidato_cb(i)\n",
    "            caixas.append(candidato)\n",
    "\n",
    "        fim_aleatorio = time.time()\n",
    "\n",
    "        tempo_execucao_aleatorio = fim_aleatorio - inicio_aleatorio\n",
    "\n",
    "        tempos_aleatorio.append(tempo_execucao_aleatorio)\n",
    "\n",
    "    dict_aleatorio[j] = sum(tempos_aleatorio)/NUMERO_TESTES\n",
    "\n",
    "dict_aleatorio\n"
   ]
  },
  {
   "cell_type": "code",
   "execution_count": 33,
   "metadata": {},
   "outputs": [],
   "source": [
    "dict_grade = {}\n",
    "\n",
    "for j in NUM_CAIXAS:\n",
    "    tempos_grade = []\n",
    "\n",
    "    for _ in range(NUMERO_TESTES):\n",
    "\n",
    "        inicio_grade = time.time()\n",
    "\n",
    "        from itertools import product\n",
    "\n",
    "        caixas = []\n",
    "\n",
    "        for candidato in product([0, 1], repeat=j):\n",
    "            caixas.append(candidato)\n",
    "\n",
    "        fim_grade = time.time()\n",
    "\n",
    "        tempo_execucao_grade = fim_grade - inicio_grade\n",
    "\n",
    "        tempos_grade.append(tempo_execucao_grade)\n",
    "\n",
    "    dict_grade[j] = sum(tempos_grade)/NUMERO_TESTES"
   ]
  },
  {
   "cell_type": "code",
   "execution_count": 34,
   "metadata": {},
   "outputs": [
    {
     "data": {
      "text/plain": [
       "{3: 0.0,\n",
       " 4: 0.0,\n",
       " 5: 0.0,\n",
       " 6: 0.0,\n",
       " 7: 0.0,\n",
       " 8: 0.0,\n",
       " 9: 0.0,\n",
       " 10: 0.0009468436241149902,\n",
       " 11: 0.0007244586944580078,\n",
       " 12: 0.002157759666442871,\n",
       " 13: 0.0026317477226257325,\n",
       " 14: 0.00770719051361084,\n",
       " 15: 0.01738523244857788,\n",
       " 16: 0.037580251693725586,\n",
       " 17: 0.07198146581649781,\n",
       " 18: 0.15825283527374268,\n",
       " 19: 0.3438688039779663}"
      ]
     },
     "execution_count": 34,
     "metadata": {},
     "output_type": "execute_result"
    }
   ],
   "source": [
    "dict_grade"
   ]
  },
  {
   "cell_type": "code",
   "execution_count": 35,
   "metadata": {},
   "outputs": [],
   "source": [
    "from funcoes_4 import funcao_objetivo_pop_cb as funcao_objetivo\n",
    "from funcoes_4 import populacao_cb as cria_populacao\n",
    "from funcoes_4 import selecao_roleta_max as funcao_selecao\n",
    "from funcoes_4 import cruzamento_ponto_simples as funcao_cruzamento\n",
    "from funcoes_4 import mutacao_simples_cb as funcao_mutacao\n",
    "from pprint import pprint\n",
    "import random"
   ]
  },
  {
   "cell_type": "code",
   "execution_count": 36,
   "metadata": {},
   "outputs": [],
   "source": [
    "TAMANHO_POPULACAO = 10\n",
    "NUM_GERACOES = 50\n",
    "CHANCE_DE_CRUZAMENTO = 0.5\n",
    "CHANCE_DE_MUTACAO = 0.05"
   ]
  },
  {
   "cell_type": "code",
   "execution_count": 37,
   "metadata": {},
   "outputs": [],
   "source": [
    "dict_genetico = {}\n",
    "\n",
    "for j in NUM_CAIXAS:\n",
    "    populacao = cria_populacao(TAMANHO_POPULACAO, j)\n",
    "    tempos_genetico = []\n",
    "\n",
    "    for _ in range(NUMERO_TESTES):\n",
    "\n",
    "        inicio_genetico = time.time()\n",
    "\n",
    "        hall_da_fama = []\n",
    "\n",
    "        for n in range(NUM_GERACOES):\n",
    "            # Seleção\n",
    "            fitness = funcao_objetivo(populacao)        \n",
    "            selecionados = funcao_selecao(populacao, fitness)\n",
    "            \n",
    "            # Cruzamento\n",
    "            proxima_geracao = []\n",
    "            for pai, mae in zip(selecionados[::2], selecionados[1::2]):\n",
    "                individuo1, individuo2 = funcao_cruzamento(pai, mae, CHANCE_DE_CRUZAMENTO)\n",
    "                proxima_geracao.append(individuo1)\n",
    "                proxima_geracao.append(individuo2)\n",
    "            \n",
    "            # Mutação\n",
    "            funcao_mutacao(proxima_geracao, CHANCE_DE_MUTACAO)\n",
    "            \n",
    "            # Atualização do hall da fama\n",
    "            fitness = funcao_objetivo(proxima_geracao)\n",
    "                \n",
    "            maior_fitness = max(fitness)\n",
    "            indice = fitness.index(maior_fitness)\n",
    "            hall_da_fama.append(proxima_geracao[indice])    \n",
    "            \n",
    "            # Encerramento\n",
    "            populacao = proxima_geracao\n",
    "\n",
    "\n",
    "        fitness = funcao_objetivo(hall_da_fama)\n",
    "        maior_fitness = max(fitness)\n",
    "        indice = fitness.index(maior_fitness)\n",
    "        melhor_individuo_observado = hall_da_fama[indice]\n",
    "\n",
    "        fim_genetico = time.time()\n",
    "\n",
    "        tempo_execucao_genetico = fim_genetico - inicio_genetico\n",
    "\n",
    "        tempos_genetico.append(tempo_execucao_genetico)\n",
    "\n",
    "    dict_genetico[j] = sum(tempos_genetico)/NUMERO_TESTES"
   ]
  },
  {
   "cell_type": "code",
   "execution_count": 38,
   "metadata": {},
   "outputs": [
    {
     "data": {
      "text/plain": [
       "{3: 0.0015168905258178711,\n",
       " 4: 0.0018913626670837402,\n",
       " 5: 0.0017219185829162598,\n",
       " 6: 0.0017350316047668457,\n",
       " 7: 0.0020734429359436034,\n",
       " 8: 0.0019525885581970215,\n",
       " 9: 0.0015188932418823242,\n",
       " 10: 0.0033312082290649415,\n",
       " 11: 0.0013315439224243163,\n",
       " 12: 0.0015013694763183593,\n",
       " 13: 0.002319777011871338,\n",
       " 14: 0.00236285924911499,\n",
       " 15: 0.0020482182502746583,\n",
       " 16: 0.0022886037826538087,\n",
       " 17: 0.0023438215255737306,\n",
       " 18: 0.001767265796661377,\n",
       " 19: 0.0017333149909973145}"
      ]
     },
     "execution_count": 38,
     "metadata": {},
     "output_type": "execute_result"
    }
   ],
   "source": [
    "dict_genetico"
   ]
  },
  {
   "cell_type": "code",
   "execution_count": 39,
   "metadata": {},
   "outputs": [
    {
     "name": "stdout",
     "output_type": "stream",
     "text": [
      "Tempo de execução da busca aleatória: 0.4259613394737244\n",
      "Tempo de execução da busca em grade: 0.3438688039779663\n",
      "Tempo de execução algoritmo genético: 0.0017333149909973145\n"
     ]
    }
   ],
   "source": [
    "print(f'Tempo de execução da busca aleatória: {sum(tempos_aleatorio)/NUMERO_TESTES}\\nTempo de execução da busca em grade: {sum(tempos_grade)/NUMERO_TESTES}\\nTempo de execução algoritmo genético: {sum(tempos_genetico)/NUMERO_TESTES}')"
   ]
  },
  {
   "cell_type": "code",
   "execution_count": 41,
   "metadata": {},
   "outputs": [],
   "source": [
    "import pandas as pd\n",
    "\n",
    "tabela = pd.DataFrame({\n",
    "    \"Caixas Binárias\": dict_aleatorio.keys(),\n",
    "    \"Busca Aleatória\": dict_aleatorio.values(),\n",
    "    \"Busca em Grade\": dict_grade.values(),\n",
    "    \"Algoritmo Genético\": dict_genetico.values()\n",
    "})"
   ]
  },
  {
   "cell_type": "code",
   "execution_count": 45,
   "metadata": {},
   "outputs": [
    {
     "data": {
      "image/png": "[encoded data removed]",
      "text/plain": [
       "<Figure size 640x480 with 1 Axes>"
      ]
     },
     "metadata": {},
     "output_type": "display_data"
    }
   ],
   "source": [
    "import matplotlib.pyplot as plt\n",
    "\n",
    "x = list(dict_aleatorio.keys())\n",
    "y_aleatorio = list(dict_aleatorio.values())\n",
    "y_grade = list(dict_grade.values())\n",
    "y_genetico = list(dict_genetico.values())\n",
    "\n",
    "plt.plot(x, y_aleatorio, label=\"Busca Aleatória\", marker='o')\n",
    "plt.plot(x, y_grade, label=\"Busca em Grade\", marker='s')\n",
    "plt.plot(x, y_genetico, label=\"Alg. Genético\", marker='^')\n",
    "\n",
    "plt.xlabel(\"Número de Caixas Binárias\")\n",
    "plt.ylabel(\"Tempo de Execução (s)\")\n",
    "plt.title(\"Comparação de Desempenho\")\n",
    "plt.legend()\n",
    "plt.grid(True)\n",
    "\n",
    "plt.show()"
   ]
  }
 ],
 "metadata": {
  "kernelspec": {
   "display_name": "base",
   "language": "python",
   "name": "python3"
  },
  "language_info": {
   "codemirror_mode": {
    "name": "ipython",
    "version": 3
   },
   "file_extension": ".py",
   "mimetype": "text/x-python",
   "name": "python",
   "nbconvert_exporter": "python",
   "pygments_lexer": "ipython3",
   "version": "3.11.5"
  }
 },
 "nbformat": 4,
 "nbformat_minor": 2
}
