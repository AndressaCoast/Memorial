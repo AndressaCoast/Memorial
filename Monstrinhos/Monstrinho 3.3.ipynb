{
 "cells": [
  {
   "cell_type": "markdown",
   "metadata": {},
   "source": [
    "# 3.3 Classes em python não pagam imposto sobre herança\n",
    "\n",
    "## Objetivo: \n",
    "Modele algum conceito científico utilizando herança de classes.\n",
    "\n",
    "## Considerações do experimento:\n",
    "O uso da herança de classes deve fazer sentido dentro do contexto científico escolhido, isto é, deve haver uma justificativa bem embasada para o uso de herança de classes na sua entrega. Certifique-se que a classe mãe tem pelo menos um método que não seja dunder para ser herdado pela classe filha. Garanta que a classe filha tem pelo menos um método (dunder ou não) que justifique a sua criação.\n",
    "\n",
    "## Contextualização\n",
    "\n",
    "Nessa atividade é necessário aplicar o conceito de herança a algum conceito físico, com a condição de que a classe filha tenha um método que justifique a existência dela.\n",
    "\n",
    "Nesse contexto, aqui está sendo criada uma classe `Particula`, que atribui as informações de nome, massa, carga e spin para as partículas.\n"
   ]
  },
  {
   "cell_type": "code",
   "execution_count": 1,
   "metadata": {},
   "outputs": [],
   "source": [
    "class Particula:\n",
    "    \"\"\"Cria uma partícula com os atributos 'nome', 'massa, 'carga' e 'spin'\"\"\"\n",
    "\n",
    "    def __init__(self, nome, massa, carga, spin):\n",
    "        self.nome = nome\n",
    "        self.massa = massa\n",
    "        self.carga = carga\n",
    "        self.spin = spin\n",
    "    \n",
    "    def __repr__(self):\n",
    "        return f\"Particula {self.nome} com {self.massa} de massa, q = {self.carga}, s = {self.spin}\""
   ]
  },
  {
   "cell_type": "markdown",
   "metadata": {},
   "source": [
    "A partir disso, classes filhas `Boson` e `Quark` foram criadas para herdar os atributos `nome`, `massa`, `carga` e `spin` da classe mãe. Mas, para apresentar o conceito de herança nós faremos operações simples correspondentes apenas ao atributo `spin` das partículas. Os demais atributos ficam para poder serem utilizados em outros tipos de verificações caso necessário."
   ]
  },
  {
   "cell_type": "code",
   "execution_count": 2,
   "metadata": {},
   "outputs": [],
   "source": [
    "class Boson(Particula):\n",
    "    def __init__(self, nome, massa, carga, spin):\n",
    "        super().__init__(nome, massa, carga, spin)\n",
    "    \n",
    "    def forma_condensado_de_bose(self):\n",
    "        if self.spin == 0 or self.spin == 1:  \n",
    "            print(f\"O {self.nome} pode formar um condensado de Bose-Einstein.\")\n",
    "\n",
    "        else:\n",
    "            print(f\"O {self.nome} não pode formar um condensado de Bose-Einstein (spin).\")\n",
    "\n",
    "class Fermion(Particula):\n",
    "    def __init__(self, nome, massa, carga, spin):\n",
    "        super().__init__(nome, massa, carga, spin)\n",
    "    \n",
    "    def principio_exclusao_pauli(self):\n",
    "        if self.spin % 2 != 0: \n",
    "            print(f\"O {self.nome} segue o Princípio da Exclusão de Pauli\")\n",
    "        else:\n",
    "            print(f\"O {self.nome} não segue o Princípio da Exclusão de Pauli.\")\n"
   ]
  },
  {
   "cell_type": "markdown",
   "metadata": {},
   "source": [
    "O método que justifica a existência da classe filha `Boson` é o de `forma_condensado_de_bose`, uma vez que essa é uma característica dos bósons que férmions não possuem. Igualmente, o método que justifica a existência da classe `Fermion` é o de princípio da exclusão de pauli, que não é aplicável aos bósons em decorrência do seu atributo de spin ser igual a um número inteiro."
   ]
  },
  {
   "cell_type": "code",
   "execution_count": 4,
   "metadata": {},
   "outputs": [
    {
     "name": "stdout",
     "output_type": "stream",
     "text": [
      "O Fóton pode formar um condensado de Bose-Einstein.\n",
      "O Elétron segue o Princípio da Exclusão de Pauli\n"
     ]
    }
   ],
   "source": [
    "foton = Boson('Fóton', 0, 0, 1)\n",
    "foton.forma_condensado_de_bose(0.0005) \n",
    "\n",
    "eletron = Fermion('Elétron', 9.11e-31, -1.6e-19, 1/2)\n",
    "eletron.principio_exclusao_pauli()"
   ]
  },
  {
   "cell_type": "markdown",
   "metadata": {},
   "source": [
    "## Conclusão\n",
    "\n",
    "Por meio da atividade executada foram praticadas aplicações dos conceitos de classe e de herança, a partir do ponto em que: uma classe mãe `Particula()` foi criada, contendo atributos gerais presentes nos mais diversos tipos de partículas e duas classes filhas `Boson()` e `Fermion()` foram criadas, herdando essas características mais gerais e apresentando seus próprios métodos individuais, o que justifica a necessidade de aplicar o conceito de herança."
   ]
  },
  {
   "cell_type": "markdown",
   "metadata": {},
   "source": [
    "# Referências"
   ]
  },
  {
   "cell_type": "markdown",
   "metadata": {},
   "source": [
    "1) WADE, E. Qual é a Diferença Entre um Férmion e um Bóson? - Elton Wade - Medium. Disponível em: <https://medium.com/@eltonwade/qual-%C3%A9-a-diferen%C3%A7a-entre-um-f%C3%A9rmion-e-um-b%C3%B3son-57f25efdf863>. Acesso em: 9 jun. 2025.\n",
    "\n",
    "‌"
   ]
  }
 ],
 "metadata": {
  "kernelspec": {
   "display_name": "Python 3",
   "language": "python",
   "name": "python3"
  },
  "language_info": {
   "codemirror_mode": {
    "name": "ipython",
    "version": 3
   },
   "file_extension": ".py",
   "mimetype": "text/x-python",
   "name": "python",
   "nbconvert_exporter": "python",
   "pygments_lexer": "ipython3",
   "version": "3.11.6"
  }
 },
 "nbformat": 4,
 "nbformat_minor": 2
}
