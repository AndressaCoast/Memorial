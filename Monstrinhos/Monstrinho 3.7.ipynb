{
 "cells": [
  {
   "cell_type": "markdown",
   "metadata": {},
   "source": [
    "# 3.7 Comparando as performances\n",
    "\n",
    "**Objetivo:** Compare o tempo de execução de três algoritmos diferentes de otimização\n",
    "(busca aleatória, busca em grade e algoritmos genéticos) para resolver o problema das\n",
    "caixas binárias. Para este exercício, considere como critério de parada para o algoritmo\n",
    "genético e para a busca aleatória o ato de encontrar a resposta do problema. Mantenha\n",
    "o algoritmo de busca em grade com o critério de parada visto na disciplina (isto é, testar\n",
    "todas as possibilidades).\n",
    "\n",
    "**Lembrete:** nós estudamos como medir o tempo de execução de algoritmos na disciplina Lógica Computacional.\n",
    "**Dica:** O enunciado do objetivo não definiu o número de caixas. É esperado de um\n",
    "cientista que ele entenda que não adianta resolver esse problema para apenas um valor\n",
    "de n caixas, mas sim buscar uma tendência resolvendo esse problema para alguns valores\n",
    "de n diferentes em busca de encontrar um padrão. Considere pelo menos 10 valores de n\n",
    "diferentes na sua resolução.\n",
    "**Dica 2:** É esperado que um cientista entenda que medir o tempo de execução exige\n",
    "rodar a mesma busca algumas vezes a fim de computar alguma estatística, como a média\n",
    "dos tempos, por exemplo.\n",
    "\n",
    "### 1.Resolução:\n",
    "\n",
    "Precisamos rodar os códigos de busca aleatória, busca em grade e algoritmos genéticos para computar a performance entre eles verificando qual o tempo que levam para processar. Uma vez que o problema abordado é o das caixas binárias, podemos utilizar os códigos fornecidos em aula. Para computar o tempo, foi feito o import do módulo `time`. Como informado no enunciado, para computar uma métrica de performance precisamos rodar o código para diversos números de caixas e comparar entre os algoritmos utilizando uma métrica, que aqui seria a média dos tempos."
   ]
  },
  {
   "cell_type": "code",
   "execution_count": 34,
   "metadata": {},
   "outputs": [],
   "source": [
    "import time "
   ]
  },
  {
   "cell_type": "markdown",
   "metadata": {},
   "source": [
    "### 1.1 Busca aleatória\n",
    "\n",
    "Foi implementada conforme [1]. Foi adicionado um dicionário `dict_aleatorio` para armazenar o tempo correspondente a cada quantidade específica de caixas. Estamos armazenando a média dos tempos de execução para cada número de caixas. "
   ]
  },
  {
   "cell_type": "code",
   "execution_count": 35,
   "metadata": {},
   "outputs": [],
   "source": [
    "import random\n",
    "\n",
    "def funcao_objetivo_cb(candidato):\n",
    "    return sum(candidato)\n",
    "\n",
    "def gene_cb():\n",
    "    valores_possiveis = [0, 1]\n",
    "    gene = random.choice(valores_possiveis)\n",
    "    return gene\n",
    "\n",
    "def cria_candidato_cb(n):\n",
    "    candidato = []\n",
    "    for _ in range(n):\n",
    "        gene = gene_cb()\n",
    "        candidato.append(gene)\n",
    "    return candidato"
   ]
  },
  {
   "cell_type": "code",
   "execution_count": 36,
   "metadata": {},
   "outputs": [],
   "source": [
    "TESTE_CAIXAS = list(range(1, 21))\n",
    "NUMERO_TESTES = 20\n",
    "\n",
    "NUM_CAIXAS = list(range(3, 20))"
   ]
  },
  {
   "cell_type": "code",
   "execution_count": 37,
   "metadata": {},
   "outputs": [
    {
     "data": {
      "text/plain": [
       "{3: 0.3217795014381409,\n",
       " 4: 0.5448027133941651,\n",
       " 5: 0.6322265625,\n",
       " 6: 0.3437202453613281,\n",
       " 7: 0.3120391726493835,\n",
       " 8: 0.3227123975753784,\n",
       " 9: 0.7321093559265137,\n",
       " 10: 0.5605387687683105,\n",
       " 11: 0.3410807609558105,\n",
       " 12: 0.344547438621521,\n",
       " 13: 0.3154855489730835,\n",
       " 14: 0.3222607374191284,\n",
       " 15: 0.314595365524292,\n",
       " 16: 0.32201510667800903,\n",
       " 17: 0.32557867765426635,\n",
       " 18: 0.3169801592826843,\n",
       " 19: 0.48828214406967163}"
      ]
     },
     "execution_count": 37,
     "metadata": {},
     "output_type": "execute_result"
    }
   ],
   "source": [
    "dict_aleatorio = {}\n",
    "\n",
    "for j in NUM_CAIXAS:\n",
    "    tempos_aleatorio = []\n",
    "    for _ in range(NUMERO_TESTES):\n",
    "\n",
    "        inicio_aleatorio = time.time()\n",
    "\n",
    "        NUM_SORTEIOS = 1000\n",
    "\n",
    "        caixas = []\n",
    "\n",
    "        for i in range(NUM_SORTEIOS):\n",
    "            candidato = cria_candidato_cb(i)\n",
    "            caixas.append(candidato)\n",
    "\n",
    "        fim_aleatorio = time.time()\n",
    "\n",
    "        tempo_execucao_aleatorio = fim_aleatorio - inicio_aleatorio\n",
    "\n",
    "        tempos_aleatorio.append(tempo_execucao_aleatorio)\n",
    "\n",
    "    dict_aleatorio[j] = sum(tempos_aleatorio)/NUMERO_TESTES\n",
    "\n",
    "dict_aleatorio\n"
   ]
  },
  {
   "cell_type": "markdown",
   "metadata": {},
   "source": [
    "### 1.2 Busca em grade\n",
    "\n",
    "Implementado conforme [1]. Igualmente, foi adicionado o `dict_grade` para a mesma lógica que no código de busca aleatória. Também retornamos a média para o número de caixas no dicionário."
   ]
  },
  {
   "cell_type": "code",
   "execution_count": 38,
   "metadata": {},
   "outputs": [],
   "source": [
    "dict_grade = {}\n",
    "\n",
    "for j in NUM_CAIXAS:\n",
    "    tempos_grade = []\n",
    "\n",
    "    for _ in range(NUMERO_TESTES):\n",
    "\n",
    "        inicio_grade = time.time()\n",
    "\n",
    "        from itertools import product\n",
    "\n",
    "        caixas = []\n",
    "\n",
    "        for candidato in product([0, 1], repeat=j):\n",
    "            caixas.append(candidato)\n",
    "\n",
    "        fim_grade = time.time()\n",
    "\n",
    "        tempo_execucao_grade = fim_grade - inicio_grade\n",
    "\n",
    "        tempos_grade.append(tempo_execucao_grade)\n",
    "\n",
    "    dict_grade[j] = sum(tempos_grade)/NUMERO_TESTES"
   ]
  },
  {
   "cell_type": "code",
   "execution_count": 39,
   "metadata": {},
   "outputs": [
    {
     "data": {
      "text/plain": [
       "{3: 0.00034097433090209963,\n",
       " 4: 0.0,\n",
       " 5: 0.0,\n",
       " 6: 0.0,\n",
       " 7: 4.634857177734375e-05,\n",
       " 8: 0.0,\n",
       " 9: 0.00010908842086791992,\n",
       " 10: 0.00015827417373657227,\n",
       " 11: 0.00027643442153930665,\n",
       " 12: 0.0010208606719970704,\n",
       " 13: 0.0028054118156433105,\n",
       " 14: 0.004497253894805908,\n",
       " 15: 0.010168766975402832,\n",
       " 16: 0.018775796890258788,\n",
       " 17: 0.040216255187988284,\n",
       " 18: 0.09084963798522949,\n",
       " 19: 0.1959259867668152}"
      ]
     },
     "execution_count": 39,
     "metadata": {},
     "output_type": "execute_result"
    }
   ],
   "source": [
    "dict_grade"
   ]
  },
  {
   "cell_type": "markdown",
   "metadata": {},
   "source": [
    "### 1.3 Algoritmos genéticos\n",
    "\n",
    "Implementado conforme [1]. Também foi adicionada de um dicionário para guardar as médias dos tempos para cada número de caixas."
   ]
  },
  {
   "cell_type": "code",
   "execution_count": 40,
   "metadata": {},
   "outputs": [],
   "source": [
    "from funcoes_6 import funcao_objetivo_pop_cb as funcao_objetivo\n",
    "from funcoes_6 import populacao_cb as cria_populacao\n",
    "from funcoes_6 import selecao_roleta_max as funcao_selecao\n",
    "from funcoes_6 import cruzamento_ponto_simples as funcao_cruzamento\n",
    "from funcoes_6 import mutacao_simples_cb as funcao_mutacao\n",
    "from pprint import pprint\n",
    "import random"
   ]
  },
  {
   "cell_type": "code",
   "execution_count": 41,
   "metadata": {},
   "outputs": [],
   "source": [
    "TAMANHO_POPULACAO = 10\n",
    "NUM_GERACOES = 50\n",
    "CHANCE_DE_CRUZAMENTO = 0.5\n",
    "CHANCE_DE_MUTACAO = 0.05"
   ]
  },
  {
   "cell_type": "code",
   "execution_count": 42,
   "metadata": {},
   "outputs": [],
   "source": [
    "dict_genetico = {}\n",
    "\n",
    "for j in NUM_CAIXAS:\n",
    "    populacao = cria_populacao(TAMANHO_POPULACAO, j)\n",
    "    tempos_genetico = []\n",
    "\n",
    "    for _ in range(NUMERO_TESTES):\n",
    "\n",
    "        inicio_genetico = time.time()\n",
    "\n",
    "        hall_da_fama = []\n",
    "\n",
    "        for n in range(NUM_GERACOES):\n",
    "            # Seleção\n",
    "            fitness = funcao_objetivo(populacao)        \n",
    "            selecionados = funcao_selecao(populacao, fitness)\n",
    "            \n",
    "            # Cruzamento\n",
    "            proxima_geracao = []\n",
    "            for pai, mae in zip(selecionados[::2], selecionados[1::2]):\n",
    "                individuo1, individuo2 = funcao_cruzamento(pai, mae, CHANCE_DE_CRUZAMENTO)\n",
    "                proxima_geracao.append(individuo1)\n",
    "                proxima_geracao.append(individuo2)\n",
    "            \n",
    "            # Mutação\n",
    "            funcao_mutacao(proxima_geracao, CHANCE_DE_MUTACAO)\n",
    "            \n",
    "            # Atualização do hall da fama\n",
    "            fitness = funcao_objetivo(proxima_geracao)\n",
    "                \n",
    "            maior_fitness = max(fitness)\n",
    "            indice = fitness.index(maior_fitness)\n",
    "            hall_da_fama.append(proxima_geracao[indice])    \n",
    "            \n",
    "            # Encerramento\n",
    "            populacao = proxima_geracao\n",
    "\n",
    "\n",
    "        fitness = funcao_objetivo(hall_da_fama)\n",
    "        maior_fitness = max(fitness)\n",
    "        indice = fitness.index(maior_fitness)\n",
    "        melhor_individuo_observado = hall_da_fama[indice]\n",
    "\n",
    "        fim_genetico = time.time()\n",
    "\n",
    "        tempo_execucao_genetico = fim_genetico - inicio_genetico\n",
    "\n",
    "        tempos_genetico.append(tempo_execucao_genetico)\n",
    "\n",
    "    dict_genetico[j] = sum(tempos_genetico)/NUMERO_TESTES"
   ]
  },
  {
   "cell_type": "code",
   "execution_count": 43,
   "metadata": {},
   "outputs": [
    {
     "data": {
      "text/plain": [
       "{3: 0.0008234739303588867,\n",
       " 4: 0.0012754559516906737,\n",
       " 5: 0.0007776856422424316,\n",
       " 6: 0.0012364149093627929,\n",
       " 7: 0.0012670278549194336,\n",
       " 8: 0.001243293285369873,\n",
       " 9: 0.0012414693832397462,\n",
       " 10: 0.0008510828018188476,\n",
       " 11: 0.0016457915306091308,\n",
       " 12: 0.0008020401000976562,\n",
       " 13: 0.0012362122535705567,\n",
       " 14: 0.0012428998947143556,\n",
       " 15: 0.0012575149536132812,\n",
       " 16: 0.0012562036514282226,\n",
       " 17: 0.0013338208198547363,\n",
       " 18: 0.001181483268737793,\n",
       " 19: 0.0012575268745422363}"
      ]
     },
     "execution_count": 43,
     "metadata": {},
     "output_type": "execute_result"
    }
   ],
   "source": [
    "dict_genetico"
   ]
  },
  {
   "cell_type": "markdown",
   "metadata": {},
   "source": [
    "Essas então são as médias para cada tipo de algoritmo. "
   ]
  },
  {
   "cell_type": "code",
   "execution_count": 44,
   "metadata": {},
   "outputs": [
    {
     "name": "stdout",
     "output_type": "stream",
     "text": [
      "Tempo de busca aleatória: 0.48828214406967163\n",
      "Tempo de execução da busca em grade: 0.1959259867668152\n",
      "Tempo de execução algoritmo genético: 0.0012575268745422363\n"
     ]
    }
   ],
   "source": [
    "print(f'Tempo de busca aleatória: {sum(tempos_aleatorio)/NUMERO_TESTES}\\nTempo de execução da busca em grade: {sum(tempos_grade)/NUMERO_TESTES}\\nTempo de execução algoritmo genético: {sum(tempos_genetico)/NUMERO_TESTES}')"
   ]
  },
  {
   "cell_type": "markdown",
   "metadata": {},
   "source": [
    "### 1.4 Plot dos resultados"
   ]
  },
  {
   "cell_type": "code",
   "execution_count": 45,
   "metadata": {},
   "outputs": [],
   "source": [
    "import pandas as pd\n",
    "\n",
    "tabela = pd.DataFrame({\n",
    "    \"Caixas Binárias\": dict_aleatorio.keys(),\n",
    "    \"Busca Aleatória\": dict_aleatorio.values(),\n",
    "    \"Busca em Grade\": dict_grade.values(),\n",
    "    \"Algoritmo Genético\": dict_genetico.values()\n",
    "})"
   ]
  },
  {
   "cell_type": "code",
   "execution_count": 46,
   "metadata": {},
   "outputs": [
    {
     "data": {
      "image/png": "[encoded data removed]",
      "text/plain": [
       "<Figure size 640x480 with 1 Axes>"
      ]
     },
     "metadata": {},
     "output_type": "display_data"
    }
   ],
   "source": [
    "import matplotlib.pyplot as plt\n",
    "\n",
    "x = list(dict_aleatorio.keys())\n",
    "y_aleatorio = list(dict_aleatorio.values())\n",
    "y_grade = list(dict_grade.values())\n",
    "y_genetico = list(dict_genetico.values())\n",
    "\n",
    "plt.plot(x, y_aleatorio, label=\"Busca Aleatória\", marker='o')\n",
    "plt.plot(x, y_grade, label=\"Busca em Grade\", marker='s')\n",
    "plt.plot(x, y_genetico, label=\"Alg. Genético\", marker='^')\n",
    "\n",
    "plt.xlabel(\"Número de Caixas Binárias\")\n",
    "plt.ylabel(\"Tempo de Execução (s)\")\n",
    "plt.title(\"Comparação de Desempenho\")\n",
    "plt.legend()\n",
    "plt.grid(True)\n",
    "\n",
    "plt.show()"
   ]
  },
  {
   "cell_type": "markdown",
   "metadata": {},
   "source": [
    "#### 2. Conclusão\n",
    "\n",
    "Podemos verificar pelo gráfico que os valores para algoritmos se mantém bem constantes em relação aos de busca aleatória e os de busca em grade. Mas esse resultado era relativamente esperado, uma vez que a busca em grade varre todas as possibilidades possíveis para configurações de caixas, ela é bastante custosa e isso tende a piorar à medida que aumentamos o números de caixa. A busca aleatória não apresenta muita constância em relação ao seu tempo, pois o formato da curva variou bastante enquanto testava. E isso também é esperado, porque funciona de uma forma aleatória.\n",
    "\n",
    "### 3. Referências\n",
    "\n",
    "[1].CASSAR, Daniel. [Material de sala de aula]. Redes Neurais e Algoritmos Genéticos, 2025, Ilum - Escola de Ciência."
   ]
  }
 ],
 "metadata": {
  "kernelspec": {
   "display_name": "base",
   "language": "python",
   "name": "python3"
  },
  "language_info": {
   "codemirror_mode": {
    "name": "ipython",
    "version": 3
   },
   "file_extension": ".py",
   "mimetype": "text/x-python",
   "name": "python",
   "nbconvert_exporter": "python",
   "pygments_lexer": "ipython3",
   "version": "3.11.5"
  }
 },
 "nbformat": 4,
 "nbformat_minor": 2
}
