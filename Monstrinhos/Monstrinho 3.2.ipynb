{
 "cells": [
  {
   "cell_type": "markdown",
   "id": "522e7703",
   "metadata": {},
   "source": [
    "# Monstrinho 3.2\n",
    "\n",
    "## Objetivo:\n",
    "Utilize classes de Python para modelar elementos químicos e moléculas.\n",
    "\n",
    "## Considerações: \n",
    "Crie uma classe chamada Elemento. Todo elemento químico utilizado nesta tarefa deve ser uma instância desta classe. Toda instância da classe Elemento deve ter os seguintes atributos: símbolo do elemento, número atômico do elemento e peso atômico do elemento (fique à vontade para incluir outras informações se quiser). Crie uma classe chamada Molecula. Esta classe deve receber um dicionário onde as chaves representam os elementos e os valores representam a quantidade do respectivo elemento. A classe Molecula deve ter um método capaz de exibir o peso atomico da molécula criada e um método capaz gerar uma fórmula química (em string) para esta molécula.\n",
    "\n",
    "**Observação:** não é necessário que a fórmula química siga as regras oficiais da química,\n",
    "basta representar os elementos existentes e suas quantidades.\n"
   ]
  },
  {
   "cell_type": "markdown",
   "id": "ec5a53a6",
   "metadata": {},
   "source": [
    "**I) Primeiro devemos criar a classe `Elemento`:**"
   ]
  },
  {
   "cell_type": "code",
   "execution_count": 1,
   "id": "ae14e74f",
   "metadata": {},
   "outputs": [],
   "source": [
    "class Elemento:\n",
    "    \"\"\"Atribui aos elementos químicos as suas características físicas\"\"\"\n",
    "    def __init__(self, simbolo, num_atomico, peso_atomico):\n",
    "        self.simbolo = simbolo \n",
    "        self.num_atomico = num_atomico\n",
    "        self.peso_atomico = peso_atomico\n",
    "        \n",
    "    def __repr__(self):\n",
    "        return f\"{self.simbolo}\"\n",
    "        "
   ]
  },
  {
   "cell_type": "markdown",
   "id": "648f64a2",
   "metadata": {},
   "source": [
    "**II) Criar as instâncias da classe elemento:**"
   ]
  },
  {
   "cell_type": "code",
   "execution_count": 2,
   "id": "b390e529",
   "metadata": {},
   "outputs": [],
   "source": [
    "H = Elemento(\"H\", 1, 1.008)   \n",
    "O = Elemento(\"O\", 8, 15.999)  \n",
    "C = Elemento(\"C\", 6, 12.011)  \n",
    "S = Elemento(\"S\", 16, 32.06)  \n",
    "Na = Elemento(\"Na\", 11, 22.990)  \n",
    "Cl = Elemento(\"Cl\", 17, 35.45)  \n",
    "N = Elemento(\"N\", 7, 14.007)  \n",
    "Hg = Elemento(\"Hg\", 80, 200.59)  \n"
   ]
  },
  {
   "cell_type": "markdown",
   "id": "900697e8",
   "metadata": {},
   "source": [
    "**III) Depois criamos a classe chamada 'molécula'**:"
   ]
  },
  {
   "cell_type": "code",
   "execution_count": 3,
   "id": "25ab1ad4",
   "metadata": {},
   "outputs": [],
   "source": [
    "class Molecula:\n",
    "    \"\"\"Deve receber um dicionário contendo info sobre quantidade dos elementos\"\"\"\n",
    "    def __init__(self, dic_elementos):\n",
    "        self.items = dic_elementos\n",
    "        \n",
    "    def __repr__(self):\n",
    "        return f\"Molécula {self.gerar_formula()} com peso atômico {self.calc_peso()}\"\n",
    "\n",
    "    def calc_peso(self):\n",
    "#Nesse caso, i representa a chave que está sendo acessada (que tem atributo peso_atomico) do dicionário e n o valor. \n",
    "        soma = 0\n",
    "        for i, n in self.items.items():\n",
    "            soma += i.peso_atomico * n\n",
    "            \n",
    "        self.soma = soma\n",
    "\n",
    "        return soma\n",
    "\n",
    "#Utilizarei de uma lógica parecida para criar a string que armazena a nomenclatura da molecula\n",
    "    def gerar_formula(self):\n",
    "        nomenclatura = ''\n",
    "        for e, q in self.items.items():\n",
    "            v = e.simbolo + str(q)\n",
    "            nomenclatura += v\n",
    "            \n",
    "        self.nomenclatura = nomenclatura\n",
    "\n",
    "        return nomenclatura\n"
   ]
  },
  {
   "cell_type": "markdown",
   "id": "ce59cb2d",
   "metadata": {},
   "source": [
    "IV) Criar um dicionário que represente a molécula desejada."
   ]
  },
  {
   "cell_type": "code",
   "execution_count": 4,
   "id": "3eb36f68",
   "metadata": {},
   "outputs": [
    {
     "name": "stdout",
     "output_type": "stream",
     "text": [
      "Molécula C6H12O6 com peso atômico 180.156\n"
     ]
    }
   ],
   "source": [
    "elementos_qt = {C: 6,\n",
    "                H: 12,\n",
    "                O: 6,\n",
    "}\n",
    "\n",
    "# Para enviarmos o dicionario para a classe, precisamos transformá-lo em uma instância da mesma\n",
    "molecula = Molecula(elementos_qt)\n",
    "\n",
    "print(molecula)"
   ]
  },
  {
   "cell_type": "markdown",
   "id": "aad06a20",
   "metadata": {},
   "source": [
    "##### Conclusão\n",
    "\n",
    "A partir desta prática foi possível aplicar alguns conceitos introdutórios sobre o uso de classes, esclarecendo melhor como funcionam a definição das instâncias, atributos e métodos. Foi de suma importância também entender de que forma as classes interagem uma com a outra para realizar operações complementares sobre os objetos definidos pela atividade."
   ]
  }
 ],
 "metadata": {
  "kernelspec": {
   "display_name": "ilumpy",
   "language": "python",
   "name": "ilumpy"
  },
  "language_info": {
   "codemirror_mode": {
    "name": "ipython",
    "version": 3
   },
   "file_extension": ".py",
   "mimetype": "text/x-python",
   "name": "python",
   "nbconvert_exporter": "python",
   "pygments_lexer": "ipython3",
   "version": "3.11.6"
  }
 },
 "nbformat": 4,
 "nbformat_minor": 5
}
